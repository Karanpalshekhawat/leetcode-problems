{
 "cells": [
  {
   "cell_type": "markdown",
   "metadata": {},
   "source": [
    "## First brute force approach solution that popped in my mind (O($n^2$)"
   ]
  },
  {
   "cell_type": "code",
   "execution_count": 3,
   "metadata": {},
   "outputs": [],
   "source": [
    "class Solution:\n",
    "    def maxArea(self, height: list) -> int:\n",
    "        max_area = 0\n",
    "        for i in range(len(height)):\n",
    "            for j in range(i,len(height)):\n",
    "                min_height = min(height[i], height[j])\n",
    "                area = min_height*(j-i)\n",
    "                if area > max_area:\n",
    "                    max_area = area\n",
    "        return max_area"
   ]
  },
  {
   "cell_type": "code",
   "execution_count": 4,
   "metadata": {},
   "outputs": [],
   "source": [
    "height = [1,8,6,2,5,4,8,3,7]"
   ]
  },
  {
   "cell_type": "code",
   "execution_count": 5,
   "metadata": {},
   "outputs": [
    {
     "data": {
      "text/plain": [
       "49"
      ]
     },
     "execution_count": 5,
     "metadata": {},
     "output_type": "execute_result"
    }
   ],
   "source": [
    "Solution().maxArea(height)"
   ]
  },
  {
   "cell_type": "markdown",
   "metadata": {},
   "source": [
    "## Efficient Solution\n",
    "\n",
    "## Start with widest container and then move and find area accordingly"
   ]
  },
  {
   "cell_type": "code",
   "execution_count": 6,
   "metadata": {},
   "outputs": [],
   "source": [
    "class Solution:\n",
    "    def maxArea(self, height: list) -> int:\n",
    "        start = 0\n",
    "        end = 0\n",
    "        max_area = 0\n",
    "        list_length = len(height) - 1\n",
    "        while start < list_length:\n",
    "            if height[start] < height[list_length]:\n",
    "                ar = height[start]*(list_length - start)\n",
    "                start+=1\n",
    "            else:\n",
    "                ar = height[list_length]*(list_length - start)\n",
    "                list_length-=1\n",
    "            if ar > max_area:\n",
    "                max_area =ar\n",
    "        \n",
    "        return max_area"
   ]
  },
  {
   "cell_type": "code",
   "execution_count": 7,
   "metadata": {},
   "outputs": [
    {
     "data": {
      "text/plain": [
       "49"
      ]
     },
     "execution_count": 7,
     "metadata": {},
     "output_type": "execute_result"
    }
   ],
   "source": [
    "Solution().maxArea(height)"
   ]
  },
  {
   "cell_type": "code",
   "execution_count": null,
   "metadata": {},
   "outputs": [],
   "source": []
  }
 ],
 "metadata": {
  "kernelspec": {
   "display_name": "Python 3",
   "language": "python",
   "name": "python3"
  },
  "language_info": {
   "codemirror_mode": {
    "name": "ipython",
    "version": 3
   },
   "file_extension": ".py",
   "mimetype": "text/x-python",
   "name": "python",
   "nbconvert_exporter": "python",
   "pygments_lexer": "ipython3",
   "version": "3.7.3"
  }
 },
 "nbformat": 4,
 "nbformat_minor": 2
}

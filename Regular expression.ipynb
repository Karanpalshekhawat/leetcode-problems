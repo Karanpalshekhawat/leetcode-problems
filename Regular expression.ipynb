{
 "cells": [
  {
   "cell_type": "markdown",
   "metadata": {},
   "source": [
    "## It is a good question."
   ]
  },
  {
   "cell_type": "code",
   "execution_count": null,
   "metadata": {},
   "outputs": [],
   "source": [
    "def check_for_rest(s, p):\n",
    "    i = j = 0\n",
    "    if len(s) > len(p):\n",
    "        return False\n",
    "    else:\n",
    "        flag = len(p)\n",
    "        for k in range(flag):\n",
    "            \n",
    "                \n",
    "        \n",
    "            "
   ]
  },
  {
   "cell_type": "code",
   "execution_count": 115,
   "metadata": {},
   "outputs": [],
   "source": [
    "def isMatch(s, p):\n",
    "    match = ['.', \"*\"]\n",
    "    if any(x in p for x in match):\n",
    "        index = 0\n",
    "        if \"*\" not in s:\n",
    "            if len(p) != len(s):\n",
    "                return False\n",
    "            else: \n",
    "                for idx, let in enumerate(p):\n",
    "                    if p[idx] != \".\" and s[idx] != p[idx]:\n",
    "                        return False\n",
    "                return True\n",
    "        else:\n",
    "            return check_for_rest(s, p)            \n",
    "        return True if p[:index] == s[:index] else False\n",
    "    else:\n",
    "        return True if p==s else False"
   ]
  },
  {
   "cell_type": "code",
   "execution_count": null,
   "metadata": {},
   "outputs": [],
   "source": []
  }
 ],
 "metadata": {
  "kernelspec": {
   "display_name": "Python 3",
   "language": "python",
   "name": "python3"
  },
  "language_info": {
   "codemirror_mode": {
    "name": "ipython",
    "version": 3
   },
   "file_extension": ".py",
   "mimetype": "text/x-python",
   "name": "python",
   "nbconvert_exporter": "python",
   "pygments_lexer": "ipython3",
   "version": "3.7.3"
  }
 },
 "nbformat": 4,
 "nbformat_minor": 2
}

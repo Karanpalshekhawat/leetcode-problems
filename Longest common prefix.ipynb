{
 "cells": [
  {
   "cell_type": "markdown",
   "metadata": {},
   "source": [
    "## My solution"
   ]
  },
  {
   "cell_type": "code",
   "execution_count": 1,
   "metadata": {},
   "outputs": [],
   "source": [
    "class Solution:\n",
    "    def check_all_letter_same_or_not(self, ls):\n",
    "        flag = ls[0]\n",
    "        for j in range(1,len(ls)):\n",
    "            if ls[j] != flag:\n",
    "                return False\n",
    "        return True\n",
    "                \n",
    "    \n",
    "    def longestCommonPrefix(self, strs: list) -> str:\n",
    "        result = len(min(strs, key=len))\n",
    "        i = 0\n",
    "        ret_s = \"\"\n",
    "        while i<= result:\n",
    "            try:\n",
    "                ls2 = [x[i] for x in strs]\n",
    "                if self.check_all_letter_same_or_not(ls2):\n",
    "                    ret_s+=ls2[0]\n",
    "                    i+=1\n",
    "                else:\n",
    "                    return ret_s\n",
    "            except:\n",
    "                return ret_s"
   ]
  },
  {
   "cell_type": "code",
   "execution_count": 9,
   "metadata": {},
   "outputs": [],
   "source": [
    "s = ['Kpss', 'Kpllpo', 'Kptt']"
   ]
  },
  {
   "cell_type": "code",
   "execution_count": 3,
   "metadata": {},
   "outputs": [
    {
     "data": {
      "text/plain": [
       "'Kp'"
      ]
     },
     "execution_count": 3,
     "metadata": {},
     "output_type": "execute_result"
    }
   ],
   "source": [
    "Solution().longestCommonPrefix(s)"
   ]
  },
  {
   "cell_type": "markdown",
   "metadata": {},
   "source": [
    "## Other Solution"
   ]
  },
  {
   "cell_type": "code",
   "execution_count": 10,
   "metadata": {},
   "outputs": [
    {
     "name": "stdout",
     "output_type": "stream",
     "text": [
      "('K', 'K', 'K')\n",
      "('p', 'p', 'p')\n",
      "('s', 'l', 't')\n",
      "('s', 'l', 't')\n"
     ]
    }
   ],
   "source": [
    "for i in zip(*s):\n",
    "    print(i)"
   ]
  },
  {
   "cell_type": "markdown",
   "metadata": {},
   "source": [
    "## it is now splited in the appropriate form and you can directly use it for other purpose"
   ]
  },
  {
   "cell_type": "code",
   "execution_count": null,
   "metadata": {},
   "outputs": [],
   "source": []
  }
 ],
 "metadata": {
  "kernelspec": {
   "display_name": "Python 3",
   "language": "python",
   "name": "python3"
  },
  "language_info": {
   "codemirror_mode": {
    "name": "ipython",
    "version": 3
   },
   "file_extension": ".py",
   "mimetype": "text/x-python",
   "name": "python",
   "nbconvert_exporter": "python",
   "pygments_lexer": "ipython3",
   "version": "3.7.3"
  }
 },
 "nbformat": 4,
 "nbformat_minor": 2
}

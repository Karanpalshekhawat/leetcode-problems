{
 "cells": [
  {
   "cell_type": "markdown",
   "metadata": {},
   "source": [
    "## I got quite confused in this, moved in completely wrong direction, this solution seems the most efficient"
   ]
  },
  {
   "cell_type": "code",
   "execution_count": 35,
   "metadata": {},
   "outputs": [],
   "source": [
    "def find_max_length(ls):\n",
    "    max_len = 0\n",
    "    index = 0\n",
    "    for idx, ans in enumerate(ls):\n",
    "        if len(ans) > max_len:\n",
    "            max_len = len(ans)\n",
    "            index = idx\n",
    "    return ls[index] "
   ]
  },
  {
   "cell_type": "code",
   "execution_count": 36,
   "metadata": {},
   "outputs": [],
   "source": [
    "def check_for_palindrome(low, high, st) -> str:\n",
    "    ls = []\n",
    "    while low >=0 and high < len(st) and st[low] == st[high]:\n",
    "        ls.append(st[low:high+1])\n",
    "        low = low - 1\n",
    "        high = high + 1\n",
    "    return ls"
   ]
  },
  {
   "cell_type": "code",
   "execution_count": 37,
   "metadata": {},
   "outputs": [],
   "source": [
    "def longestPalindrome(s: str) -> str:\n",
    "    palindrome_list = []\n",
    "    for i in range(len(s)):\n",
    "        palindrome_list.append(check_for_palindrome(i, i, s))\n",
    "        palindrome_list.append(check_for_palindrome(i, i+1, s)) \n",
    "    final_list = [j for i in palindrome_list for j in i]    \n",
    "    return final_list"
   ]
  },
  {
   "cell_type": "code",
   "execution_count": 38,
   "metadata": {},
   "outputs": [],
   "source": [
    "s = \"babad\""
   ]
  },
  {
   "cell_type": "code",
   "execution_count": 39,
   "metadata": {},
   "outputs": [],
   "source": [
    "fd = longestPalindrome(s)"
   ]
  },
  {
   "cell_type": "code",
   "execution_count": 40,
   "metadata": {},
   "outputs": [
    {
     "data": {
      "text/plain": [
       "['b', 'a', 'bab', 'b', 'aba', 'a', 'd']"
      ]
     },
     "execution_count": 40,
     "metadata": {},
     "output_type": "execute_result"
    }
   ],
   "source": [
    "fd"
   ]
  },
  {
   "cell_type": "code",
   "execution_count": 41,
   "metadata": {},
   "outputs": [
    {
     "data": {
      "text/plain": [
       "'bab'"
      ]
     },
     "execution_count": 41,
     "metadata": {},
     "output_type": "execute_result"
    }
   ],
   "source": [
    "find_max_length(fd)"
   ]
  },
  {
   "cell_type": "code",
   "execution_count": null,
   "metadata": {},
   "outputs": [],
   "source": []
  }
 ],
 "metadata": {
  "kernelspec": {
   "display_name": "Python 3",
   "language": "python",
   "name": "python3"
  },
  "language_info": {
   "codemirror_mode": {
    "name": "ipython",
    "version": 3
   },
   "file_extension": ".py",
   "mimetype": "text/x-python",
   "name": "python",
   "nbconvert_exporter": "python",
   "pygments_lexer": "ipython3",
   "version": "3.7.3"
  }
 },
 "nbformat": 4,
 "nbformat_minor": 2
}

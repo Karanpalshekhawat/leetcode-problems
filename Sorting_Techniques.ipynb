{
 "cells": [
  {
   "cell_type": "markdown",
   "metadata": {},
   "source": [
    "## Different type of Sorting approach with their order of complexity"
   ]
  },
  {
   "cell_type": "code",
   "execution_count": 165,
   "metadata": {},
   "outputs": [],
   "source": [
    "import numpy as np\n",
    "dt = np.random.randint(-55, +55, size=40)\n",
    "import time"
   ]
  },
  {
   "cell_type": "markdown",
   "metadata": {},
   "source": [
    "### Decorator to record time taken for executing any method"
   ]
  },
  {
   "cell_type": "code",
   "execution_count": 133,
   "metadata": {},
   "outputs": [],
   "source": [
    "\"\"\"\n",
    "Very important point, this does not works if you are trying to use some kind of recursive function,\n",
    "it will print multiple times about executing the block\n",
    "\"\"\"\n",
    "def time_the_method(func):\n",
    "    def timed(*args, **kwargs):\n",
    "        ts = time.time()\n",
    "        result = func(*args, **kwargs)\n",
    "        te = time.time()\n",
    "        print(f\"Method {func.__name__} takes {(te - ts)*1000} milli seconds to execute\")\n",
    "        return result\n",
    "    return timed"
   ]
  },
  {
   "cell_type": "markdown",
   "metadata": {},
   "source": [
    "## Selection Sort\n",
    "## O($n^2$)"
   ]
  },
  {
   "cell_type": "code",
   "execution_count": 26,
   "metadata": {},
   "outputs": [],
   "source": [
    "@time_the_method\n",
    "def selection_sort(arr):\n",
    "    for i in range(len(arr)):\n",
    "        min_index = i\n",
    "        for j in range(i,len(arr)):\n",
    "            if arr[j] < arr[min_index]:\n",
    "                min_index = j\n",
    "            arr[i], arr[min_index] = arr[min_index], arr[i]\n",
    "    return arr          "
   ]
  },
  {
   "cell_type": "code",
   "execution_count": 36,
   "metadata": {},
   "outputs": [
    {
     "name": "stdout",
     "output_type": "stream",
     "text": [
      "Method selection_sort takes 1.7719268798828125 to execute\n"
     ]
    }
   ],
   "source": [
    "selection_sort_output = selection_sort(dt)"
   ]
  },
  {
   "cell_type": "markdown",
   "metadata": {},
   "source": [
    "## Bubble Sort\n",
    "## O ($n^2$)"
   ]
  },
  {
   "cell_type": "code",
   "execution_count": 34,
   "metadata": {},
   "outputs": [],
   "source": [
    "@time_the_method\n",
    "def bubble_sort(arr):\n",
    "    for i in range(len(arr)):\n",
    "        for j in range(len(arr) - i - 1):\n",
    "            if arr[j] > arr[j+1]:\n",
    "                arr[j], arr[j+1] = arr[j+1], arr[j]\n",
    "    return arr"
   ]
  },
  {
   "cell_type": "code",
   "execution_count": 37,
   "metadata": {},
   "outputs": [
    {
     "name": "stdout",
     "output_type": "stream",
     "text": [
      "Method bubble_sort takes 0.7479190826416016 milli seconds to execute\n"
     ]
    }
   ],
   "source": [
    "bubble_sort_output = bubble_sort(dt)"
   ]
  },
  {
   "cell_type": "markdown",
   "metadata": {},
   "source": [
    "## Insertion Sort\n",
    "\n",
    "## O($n^2$)"
   ]
  },
  {
   "cell_type": "code",
   "execution_count": 51,
   "metadata": {},
   "outputs": [],
   "source": [
    "@time_the_method\n",
    "def insertion_sort(arr):\n",
    "    for i in range(len(arr)-1):\n",
    "        k = i\n",
    "        for j in range(i+1):\n",
    "            if arr[k] > arr[k+1]:\n",
    "                arr[k], arr[k+1] = arr[k+1], arr[k]\n",
    "                k-=1\n",
    "            elif k < 0:\n",
    "                break\n",
    "    return arr"
   ]
  },
  {
   "cell_type": "code",
   "execution_count": 54,
   "metadata": {},
   "outputs": [
    {
     "name": "stdout",
     "output_type": "stream",
     "text": [
      "Method insertion_sort takes 0.8950233459472656 milli seconds to execute\n"
     ]
    }
   ],
   "source": [
    "insertion_sort_output = insertion_sort(dt)"
   ]
  },
  {
   "cell_type": "markdown",
   "metadata": {},
   "source": [
    "## Merge Sort\n",
    "\n",
    "## O($nlog(n)$)"
   ]
  },
  {
   "cell_type": "code",
   "execution_count": 77,
   "metadata": {},
   "outputs": [],
   "source": [
    "def merge_2_sorted_array(ls, l_ls, r_ls):\n",
    "    i = 0\n",
    "    j = 0\n",
    "    for k in range(len(ls)):\n",
    "        if i < len(l_ls) and j < len(r_ls):\n",
    "            if l_ls[i] < r_ls[j]:\n",
    "                ls[k] = l_ls[i]\n",
    "                i+=1\n",
    "            else:\n",
    "                ls[k] = r_ls[j]\n",
    "                j+=1\n",
    "        elif i < len(l_ls):\n",
    "            ls[k] = l_ls[i]\n",
    "            i+=1\n",
    "        elif j < len(r_ls):\n",
    "            ls[k] = r_ls[j]\n",
    "            j+=1\n",
    "    return ls"
   ]
  },
  {
   "cell_type": "code",
   "execution_count": 132,
   "metadata": {},
   "outputs": [],
   "source": [
    "def merge_sort(arr):\n",
    "    sorted_array = arr.copy()\n",
    "    if len(sorted_array) > 1:\n",
    "        mid = len(sorted_array) // 2\n",
    "        left_arr = sorted_array[:mid]\n",
    "        right_arr = sorted_array[mid:]\n",
    "        left_sorted_array = merge_sort(left_arr)\n",
    "        right_sorted_array = merge_sort(right_arr)\n",
    "        sorted_array = merge_2_sorted_array(sorted_array, left_sorted_array, right_sorted_array)\n",
    "    return sorted_array"
   ]
  },
  {
   "cell_type": "markdown",
   "metadata": {},
   "source": [
    "## Quick Sort\n",
    "\n",
    "## O(n$log(n)$)"
   ]
  },
  {
   "cell_type": "code",
   "execution_count": null,
   "metadata": {},
   "outputs": [],
   "source": []
  },
  {
   "cell_type": "code",
   "execution_count": 161,
   "metadata": {},
   "outputs": [],
   "source": [
    "def quick_sort(arr):\n",
    "    if len(arr) > 1:\n",
    "        j=0\n",
    "        for i in range(1, len(arr)):\n",
    "            if arr[i]  <= arr[0]:\n",
    "                j+=1\n",
    "                arr[i], arr[j] = arr[j], arr[i]\n",
    "            \n",
    "        arr[0], arr[j] = arr[j], arr[0]\n",
    "        left_array = quick_sort(arr[:j])\n",
    "        right_array = quick_sort(arr[j+1:])\n",
    "        final_array = list(left_array) + [arr[j]] + list(right_array)\n",
    "    else:\n",
    "        return arr\n",
    "    return final_array"
   ]
  },
  {
   "cell_type": "code",
   "execution_count": 168,
   "metadata": {},
   "outputs": [
    {
     "data": {
      "text/plain": [
       "[-47,\n",
       " -46,\n",
       " -46,\n",
       " -42,\n",
       " -39,\n",
       " -34,\n",
       " -34,\n",
       " -29,\n",
       " -18,\n",
       " -11,\n",
       " -8,\n",
       " -8,\n",
       " -6,\n",
       " -3,\n",
       " -2,\n",
       " 0,\n",
       " 1,\n",
       " 4,\n",
       " 9,\n",
       " 10,\n",
       " 10,\n",
       " 12,\n",
       " 14,\n",
       " 16,\n",
       " 16,\n",
       " 17,\n",
       " 22,\n",
       " 23,\n",
       " 23,\n",
       " 24,\n",
       " 25,\n",
       " 25,\n",
       " 28,\n",
       " 28,\n",
       " 31,\n",
       " 32,\n",
       " 35,\n",
       " 36,\n",
       " 38,\n",
       " 39]"
      ]
     },
     "execution_count": 168,
     "metadata": {},
     "output_type": "execute_result"
    }
   ],
   "source": [
    "quick_sort(dt)"
   ]
  },
  {
   "cell_type": "code",
   "execution_count": null,
   "metadata": {},
   "outputs": [],
   "source": []
  },
  {
   "cell_type": "code",
   "execution_count": null,
   "metadata": {},
   "outputs": [],
   "source": []
  },
  {
   "cell_type": "code",
   "execution_count": null,
   "metadata": {},
   "outputs": [],
   "source": []
  },
  {
   "cell_type": "code",
   "execution_count": null,
   "metadata": {},
   "outputs": [],
   "source": []
  }
 ],
 "metadata": {
  "kernelspec": {
   "display_name": "Python 3",
   "language": "python",
   "name": "python3"
  },
  "language_info": {
   "codemirror_mode": {
    "name": "ipython",
    "version": 3
   },
   "file_extension": ".py",
   "mimetype": "text/x-python",
   "name": "python",
   "nbconvert_exporter": "python",
   "pygments_lexer": "ipython3",
   "version": "3.7.3"
  }
 },
 "nbformat": 4,
 "nbformat_minor": 2
}

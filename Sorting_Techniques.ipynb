{
 "cells": [
  {
   "cell_type": "markdown",
   "metadata": {},
   "source": [
    "## Different type of Sorting approach with their order of complexity"
   ]
  },
  {
   "cell_type": "code",
   "execution_count": 24,
   "metadata": {},
   "outputs": [],
   "source": [
    "import numpy as np\n",
    "dt = np.random.randint(-55, +55, size=40)\n",
    "import time"
   ]
  },
  {
   "cell_type": "markdown",
   "metadata": {},
   "source": [
    "### Decorator to record time of every execution of method"
   ]
  },
  {
   "cell_type": "code",
   "execution_count": 28,
   "metadata": {},
   "outputs": [],
   "source": [
    "def time_the_method(func):\n",
    "    def timed(*args, **kwargs):\n",
    "        ts = time.time()\n",
    "        result = func(*args, **kwargs)\n",
    "        te = time.time()\n",
    "        print(f\"Method {func.__name__} takes {(te - ts)*1000} milli seconds to execute\")\n",
    "        return result\n",
    "    return timed"
   ]
  },
  {
   "cell_type": "markdown",
   "metadata": {},
   "source": [
    "## Selection Sort"
   ]
  },
  {
   "cell_type": "code",
   "execution_count": 26,
   "metadata": {},
   "outputs": [],
   "source": [
    "@time_the_method\n",
    "def selection_sort(arr):\n",
    "    for i in range(len(arr)):\n",
    "        min_index = i\n",
    "        for j in range(i,len(arr)):\n",
    "            if arr[j] < arr[min_index]:\n",
    "                min_index = j\n",
    "            arr[i], arr[min_index] = arr[min_index], arr[i]\n",
    "    return arr          "
   ]
  },
  {
   "cell_type": "code",
   "execution_count": 27,
   "metadata": {},
   "outputs": [
    {
     "name": "stdout",
     "output_type": "stream",
     "text": [
      "Method selection_sort takes 1.4789104461669922 to execute\n"
     ]
    },
    {
     "data": {
      "text/plain": [
       "array([-45, -54, -44, -44, -40, -40, -38, -36, -37, -30, -32, -28, -25,\n",
       "       -23, -20, -15, -19, -12,  -9,  -8,  -8,  -3,  -7,  -2,  -1,   0,\n",
       "         5,   5,   6,  17,  19,  20,  20,  34,  25,  37,  38,  43,  49,\n",
       "        53])"
      ]
     },
     "execution_count": 27,
     "metadata": {},
     "output_type": "execute_result"
    }
   ],
   "source": [
    "selection_sort(dt)"
   ]
  },
  {
   "cell_type": "code",
   "execution_count": null,
   "metadata": {},
   "outputs": [],
   "source": []
  },
  {
   "cell_type": "code",
   "execution_count": null,
   "metadata": {},
   "outputs": [],
   "source": []
  }
 ],
 "metadata": {
  "kernelspec": {
   "display_name": "Python 3",
   "language": "python",
   "name": "python3"
  },
  "language_info": {
   "codemirror_mode": {
    "name": "ipython",
    "version": 3
   },
   "file_extension": ".py",
   "mimetype": "text/x-python",
   "name": "python",
   "nbconvert_exporter": "python",
   "pygments_lexer": "ipython3",
   "version": "3.7.3"
  }
 },
 "nbformat": 4,
 "nbformat_minor": 2
}

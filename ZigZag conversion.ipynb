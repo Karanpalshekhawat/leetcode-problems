{
 "cells": [
  {
   "cell_type": "markdown",
   "metadata": {},
   "source": [
    "## Most time spent on this, not a good problem"
   ]
  },
  {
   "cell_type": "code",
   "execution_count": 102,
   "metadata": {},
   "outputs": [],
   "source": [
    "def final_combine(ls, numRows):\n",
    "    s = \"\"\n",
    "    flag = 0\n",
    "    for j in range(numRows):\n",
    "        for i in ls:\n",
    "            s = s + i[flag]\n",
    "        flag+=1\n",
    "    return s.replace(\"*\",\"\")"
   ]
  },
  {
   "cell_type": "code",
   "execution_count": 278,
   "metadata": {},
   "outputs": [],
   "source": [
    "def combine_2_list_into_string(ls1, zg_ls, num_zg, flag3):\n",
    "    big_ls =[]\n",
    "    flag = 0\n",
    "    for i in range(len(ls1)-1):\n",
    "        big_ls.append(ls1[i])\n",
    "        for j in range(num_zg):\n",
    "            big_ls.append(zg_ls[flag])\n",
    "            flag+=1\n",
    "    if flag3:\n",
    "        big_ls.append(ls1[-1])\n",
    "        big_ls.append(zg_ls[-1])\n",
    "    else:\n",
    "        big_ls.append(ls1[-1])\n",
    "    return big_ls"
   ]
  },
  {
   "cell_type": "code",
   "execution_count": 275,
   "metadata": {},
   "outputs": [],
   "source": [
    "def convert_to_suitable_format(full_ls, zigzag_ls, numRows, zigzag_elements):\n",
    "    for i in range(len(full_ls)):\n",
    "        full_ls[i] = full_ls[i].ljust(numRows,\"*\")\n",
    "    empty_ls = []\n",
    "    for j in range(len(zigzag_ls)):\n",
    "        flag = 1\n",
    "        for k in range(zigzag_elements):\n",
    "            empty_ls.append(\"*\"*(numRows - 1 - flag) + zigzag_ls[j][k] + \"*\"*(flag))\n",
    "            flag+=1\n",
    "    return full_ls, empty_ls"
   ]
  },
  {
   "cell_type": "code",
   "execution_count": 279,
   "metadata": {},
   "outputs": [],
   "source": [
    "def convert(s: str, numRows: int) -> str:\n",
    "    num_of_letters = len(s)\n",
    "    full_cols = num_of_letters // numRows\n",
    "    num_of_zigzag_elements = numRows  - 2 if numRows > 1 else 0\n",
    "    flag3= False\n",
    "    if num_of_zigzag_elements == 0 and len(s) == 3 and numRows !=1:\n",
    "        num_of_zigzag_elements = 1\n",
    "        flag3=True\n",
    "    if full_cols == 1 and len(s) > 1 and len(s) != numRows:\n",
    "        flag3 = True\n",
    "    ls = []\n",
    "    zg = []\n",
    "    low = 0\n",
    "    for i in range(full_cols):\n",
    "        ls.append(s[low:low+numRows])\n",
    "        if (i != full_cols - 1) or (flag3):\n",
    "            zg.append(s[low+numRows:low+numRows + num_of_zigzag_elements])\n",
    "        low = low + numRows + num_of_zigzag_elements\n",
    "    full_ls, zig_ls = convert_to_suitable_format(ls, zg, numRows, num_of_zigzag_elements)\n",
    "    big_ls = combine_2_list_into_string(full_ls, zig_ls, num_of_zigzag_elements, flag3)\n",
    "    \n",
    "    return final_combine(big_ls, numRows)"
   ]
  },
  {
   "cell_type": "code",
   "execution_count": 112,
   "metadata": {},
   "outputs": [],
   "source": [
    "s = \"karanpalsingh\""
   ]
  },
  {
   "cell_type": "code",
   "execution_count": 113,
   "metadata": {},
   "outputs": [
    {
     "data": {
      "text/plain": [
       "'knshaapligran'"
      ]
     },
     "execution_count": 113,
     "metadata": {},
     "output_type": "execute_result"
    }
   ],
   "source": [
    "convert(s,3)"
   ]
  },
  {
   "cell_type": "code",
   "execution_count": 114,
   "metadata": {},
   "outputs": [
    {
     "data": {
      "text/plain": [
       "'kahaplgrnsnai'"
      ]
     },
     "execution_count": 114,
     "metadata": {},
     "output_type": "execute_result"
    }
   ],
   "source": [
    "convert(s,4)"
   ]
  },
  {
   "cell_type": "code",
   "execution_count": 115,
   "metadata": {},
   "outputs": [
    {
     "data": {
      "text/plain": [
       "'ksaliranapgnh'"
      ]
     },
     "execution_count": 115,
     "metadata": {},
     "output_type": "execute_result"
    }
   ],
   "source": [
    "convert(s, 5)"
   ]
  },
  {
   "cell_type": "code",
   "execution_count": 120,
   "metadata": {},
   "outputs": [],
   "source": [
    "s = \"AB\""
   ]
  },
  {
   "cell_type": "code",
   "execution_count": 138,
   "metadata": {},
   "outputs": [
    {
     "data": {
      "text/plain": [
       "'AB'"
      ]
     },
     "execution_count": 138,
     "metadata": {},
     "output_type": "execute_result"
    }
   ],
   "source": [
    "convert(s,1)"
   ]
  },
  {
   "cell_type": "code",
   "execution_count": 282,
   "metadata": {},
   "outputs": [],
   "source": [
    "s = \"a\""
   ]
  },
  {
   "cell_type": "code",
   "execution_count": 283,
   "metadata": {},
   "outputs": [
    {
     "data": {
      "text/plain": [
       "'a'"
      ]
     },
     "execution_count": 283,
     "metadata": {},
     "output_type": "execute_result"
    }
   ],
   "source": [
    "convert(s,1)"
   ]
  },
  {
   "cell_type": "code",
   "execution_count": null,
   "metadata": {},
   "outputs": [],
   "source": [
    "PINALSIGYAHRPI"
   ]
  },
  {
   "cell_type": "code",
   "execution_count": 240,
   "metadata": {},
   "outputs": [
    {
     "data": {
      "text/plain": [
       "1"
      ]
     },
     "execution_count": 240,
     "metadata": {},
     "output_type": "execute_result"
    }
   ],
   "source": [
    "4//3\n"
   ]
  },
  {
   "cell_type": "code",
   "execution_count": null,
   "metadata": {},
   "outputs": [],
   "source": []
  }
 ],
 "metadata": {
  "kernelspec": {
   "display_name": "Python 3",
   "language": "python",
   "name": "python3"
  },
  "language_info": {
   "codemirror_mode": {
    "name": "ipython",
    "version": 3
   },
   "file_extension": ".py",
   "mimetype": "text/x-python",
   "name": "python",
   "nbconvert_exporter": "python",
   "pygments_lexer": "ipython3",
   "version": "3.7.3"
  }
 },
 "nbformat": 4,
 "nbformat_minor": 2
}

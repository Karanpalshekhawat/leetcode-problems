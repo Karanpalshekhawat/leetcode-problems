{
 "cells": [
  {
   "cell_type": "code",
   "execution_count": 94,
   "metadata": {},
   "outputs": [],
   "source": [
    "def final_combine(ls, numRows):\n",
    "    s = \"\"\n",
    "    flag = 0\n",
    "    for j in range(numRows):\n",
    "        for i in ls:\n",
    "            s = s + i[0]\n",
    "    return s"
   ]
  },
  {
   "cell_type": "code",
   "execution_count": 83,
   "metadata": {},
   "outputs": [],
   "source": [
    "def combine_2_list_into_string(ls1, zg_ls, num_zg):\n",
    "    big_ls =[]\n",
    "    flag = 0\n",
    "    for i in range(len(ls1)-1):\n",
    "        big_ls.append(ls1[i])\n",
    "        for j in range(num_zg):\n",
    "            big_ls.append(zg_ls[flag])\n",
    "            flag+=1\n",
    "    big_ls.append(ls1[-1])\n",
    "    return big_ls"
   ]
  },
  {
   "cell_type": "code",
   "execution_count": 62,
   "metadata": {},
   "outputs": [],
   "source": [
    "def convert_to_suitable_format(full_ls, zigzag_ls, numRows, zigzag_elements):\n",
    "    for i in range(len(full_ls)):\n",
    "        full_ls[i] = full_ls[i].ljust(numRows,\"*\")\n",
    "    empty_ls = []\n",
    "    for j in range(len(zigzag_ls)):\n",
    "        flag = 1\n",
    "        for k in range(zigzag_elements):\n",
    "            empty_ls.append(\"*\"*(numRows - 1 - flag) + zigzag_ls[j][k] + \"*\"*(flag))\n",
    "            flag+=1\n",
    "    return full_ls, empty_ls"
   ]
  },
  {
   "cell_type": "code",
   "execution_count": 63,
   "metadata": {},
   "outputs": [],
   "source": [
    "def convert(s: str, numRows: int) -> str:\n",
    "    num_of_letters = len(s)\n",
    "    full_cols = num_of_letters // numRows\n",
    "    num_of_zigzag_elements = numRows  - 2\n",
    "    ls = []\n",
    "    zg = []\n",
    "    low = 0\n",
    "    for i in range(full_cols):\n",
    "        ls.append(s[low:low+numRows])\n",
    "        if i != full_cols - 1:\n",
    "            zg.append(s[low+numRows:low+numRows + num_of_zigzag_elements])\n",
    "        low = low + numRows + num_of_zigzag_elements\n",
    "        \n",
    "    return ls, zg"
   ]
  },
  {
   "cell_type": "code",
   "execution_count": 64,
   "metadata": {},
   "outputs": [],
   "source": [
    "s = \"karanpalsingh\""
   ]
  },
  {
   "cell_type": "code",
   "execution_count": 65,
   "metadata": {},
   "outputs": [],
   "source": [
    "full_ls, zigzag_ls = convert(s, 4)"
   ]
  },
  {
   "cell_type": "code",
   "execution_count": 66,
   "metadata": {},
   "outputs": [
    {
     "data": {
      "text/plain": [
       "['kara', 'alsi', 'h']"
      ]
     },
     "execution_count": 66,
     "metadata": {},
     "output_type": "execute_result"
    }
   ],
   "source": [
    "full_ls"
   ]
  },
  {
   "cell_type": "code",
   "execution_count": null,
   "metadata": {},
   "outputs": [],
   "source": []
  },
  {
   "cell_type": "code",
   "execution_count": 71,
   "metadata": {},
   "outputs": [],
   "source": [
    "numRows = 4\n",
    "zigzag_elements = 2\n",
    "ls1, zg_ls = convert_to_suitable_format(full_ls, zigzag_ls, numRows, zigzag_elements)"
   ]
  },
  {
   "cell_type": "code",
   "execution_count": 84,
   "metadata": {},
   "outputs": [
    {
     "data": {
      "text/plain": [
       "['kara', '**n*', '*p**', 'alsi', '**n*', '*g**', 'h***']"
      ]
     },
     "execution_count": 84,
     "metadata": {},
     "output_type": "execute_result"
    }
   ],
   "source": [
    "combine_2_list_into_string(ls1, zg_ls, 2)"
   ]
  },
  {
   "cell_type": "code",
   "execution_count": 86,
   "metadata": {},
   "outputs": [],
   "source": [
    "df = combine_2_list_into_string(ls1, zg_ls, 2)"
   ]
  },
  {
   "cell_type": "code",
   "execution_count": 95,
   "metadata": {},
   "outputs": [
    {
     "data": {
      "text/plain": [
       "'k**a**h'"
      ]
     },
     "execution_count": 95,
     "metadata": {},
     "output_type": "execute_result"
    }
   ],
   "source": [
    "final_combine(df)"
   ]
  },
  {
   "cell_type": "code",
   "execution_count": 88,
   "metadata": {},
   "outputs": [
    {
     "data": {
      "text/plain": [
       "['kara', '**n*', '*p**', 'alsi', '**n*', '*g**', 'h***']"
      ]
     },
     "execution_count": 88,
     "metadata": {},
     "output_type": "execute_result"
    }
   ],
   "source": [
    "df"
   ]
  },
  {
   "cell_type": "code",
   "execution_count": null,
   "metadata": {},
   "outputs": [],
   "source": []
  }
 ],
 "metadata": {
  "kernelspec": {
   "display_name": "Python 3",
   "language": "python",
   "name": "python3"
  },
  "language_info": {
   "codemirror_mode": {
    "name": "ipython",
    "version": 3
   },
   "file_extension": ".py",
   "mimetype": "text/x-python",
   "name": "python",
   "nbconvert_exporter": "python",
   "pygments_lexer": "ipython3",
   "version": "3.7.3"
  }
 },
 "nbformat": 4,
 "nbformat_minor": 2
}

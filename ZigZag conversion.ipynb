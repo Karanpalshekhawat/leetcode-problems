{
 "cells": [
  {
   "cell_type": "markdown",
   "metadata": {},
   "source": [
    "## Most time spent on this, not a good problem\n",
    "\n",
    "## Ridiculous Boundary consitions, solution should be well"
   ]
  },
  {
   "cell_type": "code",
   "execution_count": 407,
   "metadata": {},
   "outputs": [],
   "source": [
    "def final_combine(ls, numRows):\n",
    "    s = \"\"\n",
    "    flag = 0\n",
    "    for j in range(numRows):\n",
    "        for i in ls:\n",
    "            s = s + i[flag]\n",
    "        flag+=1\n",
    "    return s.replace(\"*\",\"\")"
   ]
  },
  {
   "cell_type": "code",
   "execution_count": 374,
   "metadata": {},
   "outputs": [],
   "source": [
    "def combine_2_list_into_string(ls1, zg_ls, num_zg, flag5):\n",
    "    big_ls =[]\n",
    "    flag = 0\n",
    "    for i in range(len(ls1)-1):\n",
    "        big_ls.append(ls1[i])\n",
    "        for j in range(num_zg):\n",
    "            big_ls.append(zg_ls[flag])\n",
    "            flag+=1\n",
    "    big_ls.append(ls1[-1])\n",
    "    if flag5 == True:\n",
    "        big_ls.append(zg_ls[-1])\n",
    "    return big_ls"
   ]
  },
  {
   "cell_type": "code",
   "execution_count": 382,
   "metadata": {},
   "outputs": [],
   "source": [
    "def convert_to_suitable_format(full_ls, zigzag_ls, numRows, zigzag_elements, s):\n",
    "    flag5 = False\n",
    "    if zigzag_ls == []:\n",
    "        zigzag_ls.append(s[-zigzag_elements:])\n",
    "        flag5 = True\n",
    "    for i in range(len(full_ls)):\n",
    "        full_ls[i] = full_ls[i].ljust(numRows,\"*\")\n",
    "    empty_ls = []\n",
    "    for j in range(len(zigzag_ls)):\n",
    "        flag = 1\n",
    "        for k in range(zigzag_elements):\n",
    "            empty_ls.append(\"*\"*(numRows - 1 - flag) + zigzag_ls[j][k] + \"*\"*(flag))\n",
    "            flag+=1\n",
    "    return full_ls, empty_ls, flag5"
   ]
  },
  {
   "cell_type": "code",
   "execution_count": 479,
   "metadata": {},
   "outputs": [],
   "source": [
    "def convert(s: str, numRows: int) -> str:\n",
    "    num_of_letters = len(s)\n",
    "    full_cols = num_of_letters // numRows\n",
    "    num_of_zigzag_elements = numRows  - 2\n",
    "    ls = []\n",
    "    zg = []\n",
    "    low = 0\n",
    "    if numRows < len(s):\n",
    "        if numRows > 2:\n",
    "            for i in range(full_cols):\n",
    "                ls.append(s[low:low+numRows])\n",
    "                if i != full_cols - 1:\n",
    "                    zg.append(s[low+numRows:low+numRows + num_of_zigzag_elements])\n",
    "                low = low + numRows + num_of_zigzag_elements\n",
    "            if s[low:] != \"\":\n",
    "                ls.append(s[low:])\n",
    "                zg.append(s[low-num_of_zigzag_elements:low])\n",
    "            full_ls, zig_ls, flag5 = convert_to_suitable_format(ls, zg, numRows, num_of_zigzag_elements,s)\n",
    "            big_ls = combine_2_list_into_string(full_ls, zig_ls, num_of_zigzag_elements, flag5)\n",
    "            df_str = final_combine(big_ls, numRows)\n",
    "            return df_str\n",
    "        elif numRows ==1:\n",
    "            return s\n",
    "        else:\n",
    "            evenls = []\n",
    "            oddls = []\n",
    "            for idx, let in enumerate(s):\n",
    "                if idx % 2 == 0:\n",
    "                    oddls.append(let)\n",
    "                else:\n",
    "                    evenls.append(let)\n",
    "            return \"\".join(oddls+evenls)\n",
    "    else:\n",
    "        return s"
   ]
  },
  {
   "cell_type": "code",
   "execution_count": 480,
   "metadata": {},
   "outputs": [],
   "source": [
    "s = \"karanpalsingh\""
   ]
  },
  {
   "cell_type": "code",
   "execution_count": 481,
   "metadata": {},
   "outputs": [
    {
     "data": {
      "text/plain": [
       "'knshaapligran'"
      ]
     },
     "execution_count": 481,
     "metadata": {},
     "output_type": "execute_result"
    }
   ],
   "source": [
    "convert(s,3)"
   ]
  },
  {
   "cell_type": "code",
   "execution_count": 482,
   "metadata": {},
   "outputs": [
    {
     "data": {
      "text/plain": [
       "'kahaplgrnsnai'"
      ]
     },
     "execution_count": 482,
     "metadata": {},
     "output_type": "execute_result"
    }
   ],
   "source": [
    "convert(s,4)"
   ]
  },
  {
   "cell_type": "code",
   "execution_count": 483,
   "metadata": {},
   "outputs": [
    {
     "data": {
      "text/plain": [
       "'ksaliranapgnh'"
      ]
     },
     "execution_count": 483,
     "metadata": {},
     "output_type": "execute_result"
    }
   ],
   "source": [
    "convert(s, 5)"
   ]
  },
  {
   "cell_type": "code",
   "execution_count": 484,
   "metadata": {},
   "outputs": [],
   "source": [
    "s = \"abcde\""
   ]
  },
  {
   "cell_type": "code",
   "execution_count": 485,
   "metadata": {},
   "outputs": [
    {
     "data": {
      "text/plain": [
       "'acebd'"
      ]
     },
     "execution_count": 485,
     "metadata": {},
     "output_type": "execute_result"
    }
   ],
   "source": [
    "convert(s,2)"
   ]
  },
  {
   "cell_type": "code",
   "execution_count": 486,
   "metadata": {},
   "outputs": [],
   "source": [
    "s = 'A'"
   ]
  },
  {
   "cell_type": "code",
   "execution_count": 487,
   "metadata": {},
   "outputs": [
    {
     "data": {
      "text/plain": [
       "'A'"
      ]
     },
     "execution_count": 487,
     "metadata": {},
     "output_type": "execute_result"
    }
   ],
   "source": [
    "convert(s,1)"
   ]
  },
  {
   "cell_type": "code",
   "execution_count": null,
   "metadata": {},
   "outputs": [],
   "source": []
  },
  {
   "cell_type": "code",
   "execution_count": 488,
   "metadata": {},
   "outputs": [],
   "source": [
    "s = \"kAr\""
   ]
  },
  {
   "cell_type": "code",
   "execution_count": 489,
   "metadata": {},
   "outputs": [
    {
     "data": {
      "text/plain": [
       "'kAr'"
      ]
     },
     "execution_count": 489,
     "metadata": {},
     "output_type": "execute_result"
    }
   ],
   "source": [
    "convert(s,3)"
   ]
  },
  {
   "cell_type": "code",
   "execution_count": 490,
   "metadata": {},
   "outputs": [],
   "source": [
    "s = \"karanpalSingh\""
   ]
  },
  {
   "cell_type": "code",
   "execution_count": 491,
   "metadata": {},
   "outputs": [
    {
     "data": {
      "text/plain": [
       "'kahaplgrnSnai'"
      ]
     },
     "execution_count": 491,
     "metadata": {},
     "output_type": "execute_result"
    }
   ],
   "source": [
    "convert(s,4)"
   ]
  },
  {
   "cell_type": "code",
   "execution_count": 492,
   "metadata": {},
   "outputs": [],
   "source": [
    "s = \"abcde\""
   ]
  },
  {
   "cell_type": "code",
   "execution_count": 494,
   "metadata": {},
   "outputs": [
    {
     "data": {
      "text/plain": [
       "'abecd'"
      ]
     },
     "execution_count": 494,
     "metadata": {},
     "output_type": "execute_result"
    }
   ],
   "source": [
    "convert(s,4)"
   ]
  },
  {
   "cell_type": "code",
   "execution_count": 427,
   "metadata": {},
   "outputs": [
    {
     "data": {
      "text/plain": [
       "''"
      ]
     },
     "execution_count": 427,
     "metadata": {},
     "output_type": "execute_result"
    }
   ],
   "source": [
    "s[8:]"
   ]
  },
  {
   "cell_type": "code",
   "execution_count": null,
   "metadata": {},
   "outputs": [],
   "source": []
  }
 ],
 "metadata": {
  "kernelspec": {
   "display_name": "Python 3",
   "language": "python",
   "name": "python3"
  },
  "language_info": {
   "codemirror_mode": {
    "name": "ipython",
    "version": 3
   },
   "file_extension": ".py",
   "mimetype": "text/x-python",
   "name": "python",
   "nbconvert_exporter": "python",
   "pygments_lexer": "ipython3",
   "version": "3.7.3"
  }
 },
 "nbformat": 4,
 "nbformat_minor": 2
}

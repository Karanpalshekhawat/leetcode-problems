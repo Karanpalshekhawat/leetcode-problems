{
 "cells": [
  {
   "cell_type": "code",
   "execution_count": 3,
   "metadata": {},
   "outputs": [],
   "source": [
    "class TreeNode:\n",
    "    def __init__(self, val=0, left=None, right=None):\n",
    "        self.val = val\n",
    "        self.left = left\n",
    "        self.right = right"
   ]
  },
  {
   "cell_type": "markdown",
   "metadata": {},
   "source": [
    "## Tree Traversal\n",
    "\n",
    "## Inorder (left, root, right)"
   ]
  },
  {
   "cell_type": "code",
   "execution_count": 2,
   "metadata": {},
   "outputs": [],
   "source": [
    "\"\"\"Recursive\"\"\"\n",
    "\n",
    "def inorder_traversal(root):\n",
    "    def helper(root, res):\n",
    "        if root:\n",
    "            helper(root.left, res)\n",
    "            res.append(root.val)\n",
    "            helper(root.right, res)\n",
    "    \n",
    "    res = []\n",
    "    helper(root, res)\n",
    "    return res\n",
    "    "
   ]
  },
  {
   "cell_type": "code",
   "execution_count": 8,
   "metadata": {},
   "outputs": [],
   "source": [
    "root = TreeNode(1)\n",
    "root.left = TreeNode(7,TreeNode(9),TreeNode(8))\n",
    "root.right = TreeNode(2,TreeNode(6),TreeNode(3,TreeNode(5),TreeNode(4)))"
   ]
  },
  {
   "cell_type": "code",
   "execution_count": 9,
   "metadata": {},
   "outputs": [
    {
     "data": {
      "text/plain": [
       "[9, 7, 8, 1, 6, 2, 5, 3, 4]"
      ]
     },
     "execution_count": 9,
     "metadata": {},
     "output_type": "execute_result"
    }
   ],
   "source": [
    "inorder_traversal(root)"
   ]
  },
  {
   "cell_type": "markdown",
   "metadata": {},
   "source": [
    "## Below method is quite complex to understand but fun to know"
   ]
  },
  {
   "cell_type": "code",
   "execution_count": 10,
   "metadata": {},
   "outputs": [],
   "source": [
    "\"\"\" Iteratively \"\"\"\n",
    "\n",
    "def inorder_traversal_iteratively(root):\n",
    "    res, stack = [], []\n",
    "    while True:\n",
    "        while root:\n",
    "            stack.append(root)\n",
    "            root = root.left\n",
    "        if not stack:\n",
    "            return res\n",
    "        node = stack.pop()\n",
    "        res.append(node.val)\n",
    "        root = node.right "
   ]
  },
  {
   "cell_type": "code",
   "execution_count": 11,
   "metadata": {},
   "outputs": [
    {
     "data": {
      "text/plain": [
       "[9, 7, 8, 1, 6, 2, 5, 3, 4]"
      ]
     },
     "execution_count": 11,
     "metadata": {},
     "output_type": "execute_result"
    }
   ],
   "source": [
    "inorder_traversal_iteratively(root)"
   ]
  },
  {
   "cell_type": "code",
   "execution_count": null,
   "metadata": {},
   "outputs": [],
   "source": []
  }
 ],
 "metadata": {
  "kernelspec": {
   "display_name": "Python 3",
   "language": "python",
   "name": "python3"
  },
  "language_info": {
   "codemirror_mode": {
    "name": "ipython",
    "version": 3
   },
   "file_extension": ".py",
   "mimetype": "text/x-python",
   "name": "python",
   "nbconvert_exporter": "python",
   "pygments_lexer": "ipython3",
   "version": "3.7.3"
  }
 },
 "nbformat": 4,
 "nbformat_minor": 2
}

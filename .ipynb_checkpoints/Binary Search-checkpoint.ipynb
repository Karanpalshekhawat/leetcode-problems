{
 "cells": [
  {
   "cell_type": "markdown",
   "metadata": {},
   "source": [
    "## if number is not in the list, return -1 else return index of the position"
   ]
  },
  {
   "cell_type": "code",
   "execution_count": 24,
   "metadata": {},
   "outputs": [],
   "source": [
    "def binary_search(ls, target):\n",
    "    left_idx = 0\n",
    "    right_idx = len(ls) - 1\n",
    "    \n",
    "    while left_idx <= right_idx:\n",
    "        mid = (left_idx + right_idx) // 2\n",
    "        if ls[mid] == target:\n",
    "            return mid\n",
    "        elif ls[mid] > target:\n",
    "            right_idx = mid -1\n",
    "        else:\n",
    "            left_idx = mid + 1\n",
    "    \n",
    "    return -1"
   ]
  },
  {
   "cell_type": "code",
   "execution_count": 25,
   "metadata": {},
   "outputs": [],
   "source": [
    "ls = [3,5,7,9,9,12]"
   ]
  },
  {
   "cell_type": "code",
   "execution_count": 27,
   "metadata": {},
   "outputs": [
    {
     "data": {
      "text/plain": [
       "2"
      ]
     },
     "execution_count": 27,
     "metadata": {},
     "output_type": "execute_result"
    }
   ],
   "source": [
    "binary_search(ls, 7)"
   ]
  },
  {
   "cell_type": "markdown",
   "metadata": {},
   "source": [
    "## Same binary search using recursive method"
   ]
  },
  {
   "cell_type": "code",
   "execution_count": 31,
   "metadata": {},
   "outputs": [],
   "source": [
    "def binary_search_using_recursive(ls, left_idx, right_idx, target):\n",
    "    if right_idx >= 1:\n",
    "        mid = (left_idx + right_idx) // 2\n",
    "        if ls[mid] == target:\n",
    "            return mid\n",
    "        elif ls[mid] > target:\n",
    "            return binary_search_using_recursive(ls, left_idx, mid-1, target)\n",
    "        else:\n",
    "            return binary_search_using_recursive(ls, mid+1, right_idx, target)\n",
    "    else:\n",
    "        return -1"
   ]
  },
  {
   "cell_type": "code",
   "execution_count": 32,
   "metadata": {},
   "outputs": [
    {
     "data": {
      "text/plain": [
       "4"
      ]
     },
     "execution_count": 32,
     "metadata": {},
     "output_type": "execute_result"
    }
   ],
   "source": [
    "binary_search_using_recursive(ls, 0, len(ls)-1, 9)"
   ]
  },
  {
   "cell_type": "code",
   "execution_count": null,
   "metadata": {},
   "outputs": [],
   "source": []
  },
  {
   "cell_type": "code",
   "execution_count": null,
   "metadata": {},
   "outputs": [],
   "source": []
  }
 ],
 "metadata": {
  "kernelspec": {
   "display_name": "Python 3",
   "language": "python",
   "name": "python3"
  },
  "language_info": {
   "codemirror_mode": {
    "name": "ipython",
    "version": 3
   },
   "file_extension": ".py",
   "mimetype": "text/x-python",
   "name": "python",
   "nbconvert_exporter": "python",
   "pygments_lexer": "ipython3",
   "version": "3.7.3"
  }
 },
 "nbformat": 4,
 "nbformat_minor": 2
}

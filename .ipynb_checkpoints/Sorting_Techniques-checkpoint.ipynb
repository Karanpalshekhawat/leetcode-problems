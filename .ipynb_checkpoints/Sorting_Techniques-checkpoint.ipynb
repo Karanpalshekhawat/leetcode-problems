{
 "cells": [
  {
   "cell_type": "markdown",
   "metadata": {},
   "source": [
    "## Different type of Sorting approach with their order of complexity"
   ]
  },
  {
   "cell_type": "code",
   "execution_count": 101,
   "metadata": {},
   "outputs": [],
   "source": [
    "import numpy as np\n",
    "dt = np.random.randint(-55, +55, size=40)\n",
    "import time"
   ]
  },
  {
   "cell_type": "markdown",
   "metadata": {},
   "source": [
    "### Decorator to record time taken for executing any method"
   ]
  },
  {
   "cell_type": "code",
   "execution_count": 28,
   "metadata": {},
   "outputs": [],
   "source": [
    "def time_the_method(func):\n",
    "    def timed(*args, **kwargs):\n",
    "        ts = time.time()\n",
    "        result = func(*args, **kwargs)\n",
    "        te = time.time()\n",
    "        print(f\"Method {func.__name__} takes {(te - ts)*1000} milli seconds to execute\")\n",
    "        return result\n",
    "    return timed"
   ]
  },
  {
   "cell_type": "markdown",
   "metadata": {},
   "source": [
    "## Selection Sort\n",
    "## O($n^2$)"
   ]
  },
  {
   "cell_type": "code",
   "execution_count": 26,
   "metadata": {},
   "outputs": [],
   "source": [
    "@time_the_method\n",
    "def selection_sort(arr):\n",
    "    for i in range(len(arr)):\n",
    "        min_index = i\n",
    "        for j in range(i,len(arr)):\n",
    "            if arr[j] < arr[min_index]:\n",
    "                min_index = j\n",
    "            arr[i], arr[min_index] = arr[min_index], arr[i]\n",
    "    return arr          "
   ]
  },
  {
   "cell_type": "code",
   "execution_count": 36,
   "metadata": {},
   "outputs": [
    {
     "name": "stdout",
     "output_type": "stream",
     "text": [
      "Method selection_sort takes 1.7719268798828125 to execute\n"
     ]
    }
   ],
   "source": [
    "selection_sort_output = selection_sort(dt)"
   ]
  },
  {
   "cell_type": "markdown",
   "metadata": {},
   "source": [
    "## Bubble Sort\n",
    "## O ($n^2$)"
   ]
  },
  {
   "cell_type": "code",
   "execution_count": 34,
   "metadata": {},
   "outputs": [],
   "source": [
    "@time_the_method\n",
    "def bubble_sort(arr):\n",
    "    for i in range(len(arr)):\n",
    "        for j in range(len(arr) - i - 1):\n",
    "            if arr[j] > arr[j+1]:\n",
    "                arr[j], arr[j+1] = arr[j+1], arr[j]\n",
    "    return arr"
   ]
  },
  {
   "cell_type": "code",
   "execution_count": 37,
   "metadata": {},
   "outputs": [
    {
     "name": "stdout",
     "output_type": "stream",
     "text": [
      "Method bubble_sort takes 0.7479190826416016 milli seconds to execute\n"
     ]
    }
   ],
   "source": [
    "bubble_sort_output = bubble_sort(dt)"
   ]
  },
  {
   "cell_type": "markdown",
   "metadata": {},
   "source": [
    "## Insertion Sort\n",
    "\n",
    "## O($n^2$)"
   ]
  },
  {
   "cell_type": "code",
   "execution_count": 51,
   "metadata": {},
   "outputs": [],
   "source": [
    "@time_the_method\n",
    "def insertion_sort(arr):\n",
    "    for i in range(len(arr)-1):\n",
    "        k = i\n",
    "        for j in range(i+1):\n",
    "            if arr[k] > arr[k+1]:\n",
    "                arr[k], arr[k+1] = arr[k+1], arr[k]\n",
    "                k-=1\n",
    "            elif k < 0:\n",
    "                break\n",
    "    return arr"
   ]
  },
  {
   "cell_type": "code",
   "execution_count": 54,
   "metadata": {},
   "outputs": [
    {
     "name": "stdout",
     "output_type": "stream",
     "text": [
      "Method insertion_sort takes 0.8950233459472656 milli seconds to execute\n"
     ]
    }
   ],
   "source": [
    "insertion_sort_output = insertion_sort(dt)"
   ]
  },
  {
   "cell_type": "markdown",
   "metadata": {},
   "source": [
    "## Merge Sort\n",
    "\n",
    "## O($nlog(n)$)"
   ]
  },
  {
   "cell_type": "code",
   "execution_count": 77,
   "metadata": {},
   "outputs": [],
   "source": [
    "def merge_2_sorted_array(ls, l_ls, r_ls):\n",
    "    i = 0\n",
    "    j = 0\n",
    "    for k in range(len(ls)):\n",
    "        if i < len(l_ls) and j < len(r_ls):\n",
    "            if l_ls[i] < r_ls[j]:\n",
    "                ls[k] = l_ls[i]\n",
    "                i+=1\n",
    "            else:\n",
    "                ls[k] = r_ls[j]\n",
    "                j+=1\n",
    "        elif i < len(l_ls):\n",
    "            ls[k] = l_ls[i]\n",
    "            i+=1\n",
    "        elif j < len(r_ls):\n",
    "            ls[k] = r_ls[j]\n",
    "            j+=1\n",
    "    return ls"
   ]
  },
  {
   "cell_type": "code",
   "execution_count": 91,
   "metadata": {},
   "outputs": [],
   "source": [
    "def merge_sort(arr):\n",
    "    sorted_array = arr\n",
    "    if len(arr) > 1:\n",
    "        mid = len(arr) // 2\n",
    "        left_arr = arr[:mid]\n",
    "        right_arr = arr[mid:]\n",
    "        left_sorted_array = merge_sort(left_arr)\n",
    "        right_sorted_array = merge_sort(right_arr)\n",
    "        sorted_array = merge_2_sorted_array(arr, left_sorted_array, right_sorted_array)\n",
    "    return sorted_array"
   ]
  },
  {
   "cell_type": "code",
   "execution_count": 103,
   "metadata": {},
   "outputs": [],
   "source": [
    "kt = merge_sort(dt)"
   ]
  },
  {
   "cell_type": "code",
   "execution_count": 102,
   "metadata": {},
   "outputs": [
    {
     "data": {
      "text/plain": [
       "array([ 11,  16, -12,  36,   7, -11,  50,  30,   7,  46, -54,  14, -22,\n",
       "        44,  48,  23,  53, -55,  12,  43, -53,  -7,  37, -30, -26,  -7,\n",
       "        35,  13, -34,  23, -19, -43, -19,  -2,  15, -19, -27, -48, -29,\n",
       "        48])"
      ]
     },
     "execution_count": 102,
     "metadata": {},
     "output_type": "execute_result"
    }
   ],
   "source": [
    "dt"
   ]
  },
  {
   "cell_type": "code",
   "execution_count": 104,
   "metadata": {},
   "outputs": [
    {
     "data": {
      "text/plain": [
       "array([-55, -55, -55, -55, -55, -55, -55, -55, -55, -55, -55, -55, -55,\n",
       "       -55, -55, -55, -55, -55, -53, -53, -53, -48, -48, -48, -48, -48,\n",
       "       -48, -48, -48, -48, -48, -48, -48, -48, -48, -48, -48, -48, -29,\n",
       "        48])"
      ]
     },
     "execution_count": 104,
     "metadata": {},
     "output_type": "execute_result"
    }
   ],
   "source": [
    "dt"
   ]
  },
  {
   "cell_type": "code",
   "execution_count": null,
   "metadata": {},
   "outputs": [],
   "source": []
  }
 ],
 "metadata": {
  "kernelspec": {
   "display_name": "Python 3",
   "language": "python",
   "name": "python3"
  },
  "language_info": {
   "codemirror_mode": {
    "name": "ipython",
    "version": 3
   },
   "file_extension": ".py",
   "mimetype": "text/x-python",
   "name": "python",
   "nbconvert_exporter": "python",
   "pygments_lexer": "ipython3",
   "version": "3.7.3"
  }
 },
 "nbformat": 4,
 "nbformat_minor": 2
}

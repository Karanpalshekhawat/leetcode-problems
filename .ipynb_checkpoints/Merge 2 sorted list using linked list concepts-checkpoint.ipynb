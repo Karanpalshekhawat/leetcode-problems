{
 "cells": [
  {
   "cell_type": "code",
   "execution_count": 3,
   "metadata": {},
   "outputs": [],
   "source": [
    "class ListNode:\n",
    "    def __init__(self, val=0, next=None):\n",
    "        self.val = val\n",
    "        self.next = next"
   ]
  },
  {
   "cell_type": "code",
   "execution_count": 4,
   "metadata": {},
   "outputs": [],
   "source": [
    "ls = ListNode()"
   ]
  },
  {
   "cell_type": "code",
   "execution_count": 8,
   "metadata": {},
   "outputs": [],
   "source": [
    "class Solution:\n",
    "    def mergeTwoLists(self, list1: Optional[ListNode], list2: Optional[ListNode]) -> Optional[ListNode]:\n",
    "        final_ans = ListNode()\n",
    "        dummy = final_ans\n",
    "        while list1 or list2:\n",
    "            if list1 and list2:\n",
    "                if list1.val < list2.val:\n",
    "                    dummy.next = list1 \n",
    "                    list1 = list1.next\n",
    "                else:\n",
    "                    dummy.next = list2\n",
    "                    list2 = list2.next\n",
    "            elif list1:\n",
    "                dummy.next = list1\n",
    "                list1 = list1.next\n",
    "            else:\n",
    "                dummy.next = list2\n",
    "                list2 = list2.next\n",
    "            dummy = dummy.next\n",
    "        \n",
    "        return final_ans.next"
   ]
  },
  {
   "cell_type": "code",
   "execution_count": 11,
   "metadata": {},
   "outputs": [],
   "source": [
    "#this will merge"
   ]
  },
  {
   "cell_type": "code",
   "execution_count": null,
   "metadata": {},
   "outputs": [],
   "source": []
  }
 ],
 "metadata": {
  "kernelspec": {
   "display_name": "Python 3",
   "language": "python",
   "name": "python3"
  },
  "language_info": {
   "codemirror_mode": {
    "name": "ipython",
    "version": 3
   },
   "file_extension": ".py",
   "mimetype": "text/x-python",
   "name": "python",
   "nbconvert_exporter": "python",
   "pygments_lexer": "ipython3",
   "version": "3.7.3"
  }
 },
 "nbformat": 4,
 "nbformat_minor": 2
}

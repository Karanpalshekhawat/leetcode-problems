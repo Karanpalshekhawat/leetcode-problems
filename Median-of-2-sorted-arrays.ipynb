{
 "cells": [
  {
   "cell_type": "code",
   "execution_count": 2,
   "metadata": {},
   "outputs": [],
   "source": [
    "class Solution:\n",
    "    def findMedianSortedArrays(self, nums1: list, nums2: list) -> float:\n",
    "        loop = len(nums1) + len(nums2)\n",
    "        num3 =[]\n",
    "        p_1, p_2 = 0, 0\n",
    "        for i in range(loop):\n",
    "            if p_1 < len(nums1) and p_2 < len(nums2):\n",
    "                if nums1[p_1] <= nums2[p_2]:\n",
    "                    num3.append(nums1[p_1])\n",
    "                    p_1+=1\n",
    "                else:\n",
    "                    num3.append(nums2[p_2])\n",
    "                    p_2+=1\n",
    "            elif p_1 >= len(nums1):\n",
    "                num3.append(nums2[p_2])\n",
    "                p_2+=1\n",
    "            else:\n",
    "                num3.append(nums1[p_1])\n",
    "                p_1+=1\n",
    "        remainder = loop % 2\n",
    "        if remainder == 1:\n",
    "            return num3[loop // 2]\n",
    "        else:\n",
    "            flag = loop // 2\n",
    "            flag2 = (num3[flag] + num3[flag - 1]) / 2\n",
    "            return flag2"
   ]
  },
  {
   "cell_type": "code",
   "execution_count": 3,
   "metadata": {},
   "outputs": [
    {
     "data": {
      "text/plain": [
       "2"
      ]
     },
     "execution_count": 3,
     "metadata": {},
     "output_type": "execute_result"
    }
   ],
   "source": [
    "nums1 = [1, 3]\n",
    "nums2 = [2]\n",
    "Solution().findMedianSortedArrays(nums1, nums2)"
   ]
  },
  {
   "cell_type": "code",
   "execution_count": null,
   "metadata": {},
   "outputs": [],
   "source": [
    "nums1 = [1, 3]\n",
    "nums2 = [2]\n",
    "Solution().findMedianSortedArrays(nums1, nums2)"
   ]
  }
 ],
 "metadata": {
  "kernelspec": {
   "display_name": "Python 3",
   "language": "python",
   "name": "python3"
  },
  "language_info": {
   "codemirror_mode": {
    "name": "ipython",
    "version": 3
   },
   "file_extension": ".py",
   "mimetype": "text/x-python",
   "name": "python",
   "nbconvert_exporter": "python",
   "pygments_lexer": "ipython3",
   "version": "3.7.3"
  }
 },
 "nbformat": 4,
 "nbformat_minor": 2
}
